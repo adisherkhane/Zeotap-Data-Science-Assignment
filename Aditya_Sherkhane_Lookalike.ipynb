{
  "nbformat": 4,
  "nbformat_minor": 0,
  "metadata": {
    "colab": {
      "provenance": []
    },
    "kernelspec": {
      "name": "python3",
      "display_name": "Python 3"
    },
    "language_info": {
      "name": "python"
    }
  },
  "cells": [
    {
      "cell_type": "code",
      "execution_count": 12,
      "metadata": {
        "id": "WJLuZTF3v-yy"
      },
      "outputs": [],
      "source": [
        "import pandas as pd\n",
        "from sklearn.metrics.pairwise import cosine_similarity\n",
        "from sklearn.preprocessing import StandardScaler\n",
        "from sklearn.metrics import pairwise_distances"
      ]
    },
    {
      "cell_type": "code",
      "source": [
        "# Load the datasets\n",
        "customers = pd.read_csv('/content/Customers.csv')\n",
        "products = pd.read_csv('/content/Products.csv')\n",
        "transactions = pd.read_csv('/content/Transactions.csv')"
      ],
      "metadata": {
        "id": "nT1rj41rwhuX"
      },
      "execution_count": 2,
      "outputs": []
    },
    {
      "cell_type": "code",
      "source": [
        "# Merge data to create a unified dataset\n",
        "merged_data = transactions.merge(customers, on='CustomerID').merge(products, on='ProductID')"
      ],
      "metadata": {
        "id": "4UyrWj4uwiN5"
      },
      "execution_count": 4,
      "outputs": []
    },
    {
      "cell_type": "code",
      "source": [
        "# Feature engineering: Create a pivot table of customers and products with quantity as values\n",
        "customer_product_matrix = merged_data.pivot_table(\n",
        "    index='CustomerID',\n",
        "    columns='ProductID',\n",
        "    values='Quantity',\n",
        "    fill_value=0\n",
        ")"
      ],
      "metadata": {
        "id": "27YrETLpwmkG"
      },
      "execution_count": 5,
      "outputs": []
    },
    {
      "cell_type": "code",
      "source": [
        "# Standardize the data\n",
        "scaler = StandardScaler()\n",
        "customer_product_matrix_scaled = scaler.fit_transform(customer_product_matrix)"
      ],
      "metadata": {
        "id": "khFtuE6Xwp41"
      },
      "execution_count": 6,
      "outputs": []
    },
    {
      "cell_type": "code",
      "source": [
        "# Calculate cosine similarity between customers\n",
        "similarity_matrix = cosine_similarity(customer_product_matrix_scaled)\n",
        "similarity_df = pd.DataFrame(similarity_matrix, index=customer_product_matrix.index, columns=customer_product_matrix.index)"
      ],
      "metadata": {
        "id": "za651quLwtGx"
      },
      "execution_count": 7,
      "outputs": []
    },
    {
      "cell_type": "code",
      "source": [
        "# Function to get top 3 similar customers for a given customer\n",
        "def get_top_similar(customers_df, customer_id, n=3):\n",
        "    similar_customers = customers_df[customer_id].sort_values(ascending=False).iloc[1:n+1]\n",
        "    return similar_customers\n"
      ],
      "metadata": {
        "id": "GErWvzH3wxGl"
      },
      "execution_count": 8,
      "outputs": []
    },
    {
      "cell_type": "code",
      "source": [
        "# Create a lookalike dataset for CustomerID: C0001 - C0020\n",
        "lookalike_results = {}\n",
        "for customer_id in customer_product_matrix.index[:20]:\n",
        "    top_similars = get_top_similar(similarity_df, customer_id)\n",
        "    lookalike_results[customer_id] = [(similar_id, round(score, 4)) for similar_id, score in zip(top_similars.index, top_similars.values)]\n"
      ],
      "metadata": {
        "id": "TyuUu5bzwz1a"
      },
      "execution_count": 9,
      "outputs": []
    },
    {
      "cell_type": "code",
      "source": [
        "# Save the results to a CSV in the required format\n",
        "lookalike_df = pd.DataFrame([\n",
        "    {'CustomerID': cust_id, 'Lookalikes': str(lookalikes)}\n",
        "    for cust_id, lookalikes in lookalike_results.items()\n",
        "])\n",
        "lookalike_df.to_csv('Aditya_Sherkhane_Lookalike.csv', index=False)\n",
        "\n",
        "print(\"Lookalike model results saved to 'Aditya_Sherkhane_Lookalike.csv'\")"
      ],
      "metadata": {
        "colab": {
          "base_uri": "https://localhost:8080/"
        },
        "id": "r_Pjmcgpw2pr",
        "outputId": "625ca5e2-010f-434d-e362-f8c90419442b"
      },
      "execution_count": 10,
      "outputs": [
        {
          "output_type": "stream",
          "name": "stdout",
          "text": [
            "Lookalike model results saved to 'Aditya_Sherkhane_Lookalike.csv'\n"
          ]
        }
      ]
    },
    {
      "cell_type": "code",
      "source": [
        "# Evaluate accuracy using mean squared error between similarity matrices\n",
        "similarity_matrix_manual = 1 - pairwise_distances(customer_product_matrix_scaled, metric='cosine')\n",
        "mse = ((similarity_matrix - similarity_matrix_manual) ** 2).mean()\n",
        "print(f\"Mean Squared Error between similarity matrices: {mse}\")"
      ],
      "metadata": {
        "colab": {
          "base_uri": "https://localhost:8080/"
        },
        "id": "nCR4TYAzw7kL",
        "outputId": "517c810c-3bf3-4af8-c5e4-e6555f410e53"
      },
      "execution_count": 13,
      "outputs": [
        {
          "output_type": "stream",
          "name": "stdout",
          "text": [
            "Mean Squared Error between similarity matrices: 3.98633983366674e-33\n"
          ]
        }
      ]
    }
  ]
}